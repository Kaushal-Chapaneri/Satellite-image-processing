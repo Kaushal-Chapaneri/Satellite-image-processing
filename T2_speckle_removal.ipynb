{
  "nbformat": 4,
  "nbformat_minor": 0,
  "metadata": {
    "colab": {
      "name": "T2_speckle_removal.ipynb",
      "version": "0.3.2",
      "provenance": [],
      "collapsed_sections": [],
      "include_colab_link": true
    },
    "kernelspec": {
      "name": "python3",
      "display_name": "Python 3"
    }
  },
  "cells": [
    {
      "cell_type": "markdown",
      "metadata": {
        "id": "view-in-github",
        "colab_type": "text"
      },
      "source": [
        "<a href=\"https://colab.research.google.com/github/Kaushal-Chapaneri/Satellite-image-processing/blob/master/T2_speckle_removal.ipynb\" target=\"_parent\"><img src=\"https://colab.research.google.com/assets/colab-badge.svg\" alt=\"Open In Colab\"/></a>"
      ]
    },
    {
      "cell_type": "markdown",
      "metadata": {
        "id": "08iZ6NHCM0FI",
        "colab_type": "text"
      },
      "source": [
        "# Welcome to Satellite  Image Processing using Python "
      ]
    },
    {
      "cell_type": "markdown",
      "metadata": {
        "id": "gooEUAamYps7",
        "colab_type": "text"
      },
      "source": [
        "## **Tutorial 2: Removing Speckle (noise) from Satellite Image**"
      ]
    },
    {
      "cell_type": "markdown",
      "metadata": {
        "id": "o3ZswJbQNM9M",
        "colab_type": "text"
      },
      "source": [
        "In This tutorial You will get answer of how to remove speckle noise from satellite images using Python.  For that a library called [PyRadar](https://pypi.org/project/pyradar/) is available to use, it may not support python3 due to dependencies mis-match. So we will write median filter from scratch."
      ]
    },
    {
      "cell_type": "markdown",
      "metadata": {
        "id": "_eyb773chIbq",
        "colab_type": "text"
      },
      "source": [
        "Using this library we can apply following types of filters on image:\n",
        "\n",
        "\n",
        "*   Frost\n",
        "*   Kuan\n",
        "*   Lee\n",
        "*   Enhanced Lee\n",
        "*   Mean\n",
        "*   Median\n",
        "\n",
        "\n",
        "\n",
        "\n",
        "\n"
      ]
    },
    {
      "cell_type": "code",
      "metadata": {
        "id": "9Z-bagUug__N",
        "colab_type": "code",
        "colab": {}
      },
      "source": [
        "import numpy as np\n",
        "\n",
        "from PIL import Image"
      ],
      "execution_count": 0,
      "outputs": []
    },
    {
      "cell_type": "code",
      "metadata": {
        "id": "2_Z1eoq6i0pP",
        "colab_type": "code",
        "colab": {}
      },
      "source": [
        "# We will first read our image as array\n",
        "\n",
        "from osgeo import gdal\n",
        "\n",
        "from google.colab import drive\n",
        "\n",
        "drive.mount('/content/gdrive')"
      ],
      "execution_count": 0,
      "outputs": []
    },
    {
      "cell_type": "code",
      "metadata": {
        "id": "jN3g4cUci5AY",
        "colab_type": "code",
        "colab": {}
      },
      "source": [
        "image_path = 'gdrive/My Drive/tutorial_docs/' \n",
        "\n",
        "raster = gdal.Open(image_path+'ALPSRP262080360.tif')\n",
        "\n",
        "bnd1 = raster.GetRasterBand(1)  \n",
        "\n",
        "im = bnd1.ReadAsArray() "
      ],
      "execution_count": 0,
      "outputs": []
    },
    {
      "cell_type": "code",
      "metadata": {
        "id": "Hnm4uGM2l4CZ",
        "colab_type": "code",
        "colab": {}
      },
      "source": [
        "# following line of code is the implementation of median filter.\n",
        "\n",
        "N, M = im.shape\n",
        "    \n",
        "win_offset = 7 / 2\n",
        "    \n",
        "img_filtered = np.zeros_like(im)\n",
        "\n",
        "for i in range(0, N):\n",
        "        \n",
        "        xleft = i - win_offset\n",
        "        \n",
        "        xright = i + win_offset\n",
        "     \n",
        "        \n",
        "        if xleft < 0:\n",
        "            \n",
        "            xleft = 0\n",
        "        \n",
        "        if xright >= N:\n",
        "            \n",
        "            xright = N\n",
        "     \n",
        "        for j in range(0, M):\n",
        "            \n",
        "            yup = j - win_offset\n",
        "            \n",
        "            ydown = j + win_offset\n",
        "     \n",
        "            if yup < 0:\n",
        "                \n",
        "                yup = 0\n",
        "            \n",
        "            if ydown >= M:\n",
        "                \n",
        "                ydown = M\n",
        "     \n",
        "            xleft = np.int32(xleft)\n",
        "            \n",
        "            yup = np.int32(yup)\n",
        "            \n",
        "            xright = np.int32(xright)\n",
        "            \n",
        "            ydown = np.int32(ydown)\n",
        "             \n",
        "            window = im[xleft:xright, yup:ydown]\n",
        "            \n",
        "            window_median = np.median(window)\n",
        "             \n",
        "            img_filtered[i, j] = round(window_median)\n",
        "    \n",
        "img_filtered = np.float32(img_filtered)"
      ],
      "execution_count": 0,
      "outputs": []
    },
    {
      "cell_type": "code",
      "metadata": {
        "id": "7Au4acwlljyV",
        "colab_type": "code",
        "colab": {}
      },
      "source": [
        "# now we will save the output array to as .tiff file using PIL library\n",
        "\n",
        "t1 = Image.fromarray(img_filtered)\n",
        "\n",
        "t1.save(image_path + 'filtered_output.tiff')"
      ],
      "execution_count": 0,
      "outputs": []
    },
    {
      "cell_type": "markdown",
      "metadata": {
        "id": "tkDUkAiQdCIm",
        "colab_type": "text"
      },
      "source": [
        "## Congratulations...! You've successfully completed this tutorial. "
      ]
    }
  ]
}