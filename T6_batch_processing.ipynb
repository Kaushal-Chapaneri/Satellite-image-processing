{
  "nbformat": 4,
  "nbformat_minor": 0,
  "metadata": {
    "colab": {
      "name": "T6_batch_processing.ipynb",
      "version": "0.3.2",
      "provenance": [],
      "collapsed_sections": [],
      "include_colab_link": true
    },
    "kernelspec": {
      "name": "python3",
      "display_name": "Python 3"
    }
  },
  "cells": [
    {
      "cell_type": "markdown",
      "metadata": {
        "id": "view-in-github",
        "colab_type": "text"
      },
      "source": [
        "<a href=\"https://colab.research.google.com/github/Kaushal-Chapaneri/Satellite-image-processing/blob/master/T6_batch_processing.ipynb\" target=\"_parent\"><img src=\"https://colab.research.google.com/assets/colab-badge.svg\" alt=\"Open In Colab\"/></a>"
      ]
    },
    {
      "cell_type": "markdown",
      "metadata": {
        "id": "08iZ6NHCM0FI",
        "colab_type": "text"
      },
      "source": [
        "# Welcome to Satellite  Image Processing using Python "
      ]
    },
    {
      "cell_type": "markdown",
      "metadata": {
        "id": "gooEUAamYps7",
        "colab_type": "text"
      },
      "source": [
        "## **Tutorial 6: Batch Processing with Python.**"
      ]
    },
    {
      "cell_type": "markdown",
      "metadata": {
        "id": "o3ZswJbQNM9M",
        "colab_type": "text"
      },
      "source": [
        "In This tutorial You will get answer of how to apply same operation on bulk of images using Python.  ."
      ]
    },
    {
      "cell_type": "code",
      "metadata": {
        "id": "7AVZsLcb6YZb",
        "colab_type": "code",
        "colab": {}
      },
      "source": [
        "# importing necessary libraries\n",
        "\n",
        "from osgeo import gdal\n",
        "\n",
        "import numpy as np\n",
        "\n",
        "import os\n",
        "\n",
        "from google.colab import drive\n",
        "\n",
        "drive.mount('/content/gdrive')"
      ],
      "execution_count": 0,
      "outputs": []
    },
    {
      "cell_type": "code",
      "metadata": {
        "id": "_2eDeGKp6sAL",
        "colab_type": "code",
        "colab": {
          "base_uri": "https://localhost:8080/",
          "height": 34
        },
        "outputId": "7becdafd-817b-4ab1-f55e-5e92cab25b98"
      },
      "source": [
        "image_path = 'gdrive/My Drive/tutorial_docs/' \n",
        "\n",
        "list_files = os.listdir(image_path)   # it will create list of all files stired in this directory.\n",
        "\n",
        "list_files.sort()  # this will sort all files in ascending order.\n",
        "\n",
        "count = len(list_files) # this will count the number of files present in directory.\n",
        "\n",
        "print(list_files)"
      ],
      "execution_count": 4,
      "outputs": [
        {
          "output_type": "stream",
          "text": [
            "['ALPSRP080180170.tif', 'ALPSRP262080360.tif', 'ALPSRS153913400.tif', 'filtered_output.tiff', 'sigma_nought_output.tiff']\n"
          ],
          "name": "stdout"
        }
      ]
    },
    {
      "cell_type": "code",
      "metadata": {
        "id": "mZiMogG47Qy7",
        "colab_type": "code",
        "colab": {}
      },
      "source": [
        "for i in range(count):\n",
        "   \n",
        "    raster = gdal.Open(image_path + list_files[i])\n",
        "    \n",
        "    bnd1 = raster.GetRasterBand(1)  \n",
        "    \n",
        "    im = bnd1.ReadAsArray()\n",
        "    \n",
        "    # here onwards we have array of every image so we can do the required process on all images one by one.\n",
        "    # just for example we are calculating mean of every image and printing it.\n",
        "    \n",
        "    mean = np.mean(im)\n",
        "    \n",
        "    print(mean)"
      ],
      "execution_count": 0,
      "outputs": []
    },
    {
      "cell_type": "markdown",
      "metadata": {
        "id": "tkDUkAiQdCIm",
        "colab_type": "text"
      },
      "source": [
        "## Congratulations...! You've successfully completed this tutorial. "
      ]
    }
  ]
}