{
  "nbformat": 4,
  "nbformat_minor": 0,
  "metadata": {
    "colab": {
      "name": "T4_stat_analysis.ipynb",
      "version": "0.3.2",
      "provenance": [],
      "collapsed_sections": [],
      "include_colab_link": true
    },
    "kernelspec": {
      "name": "python3",
      "display_name": "Python 3"
    }
  },
  "cells": [
    {
      "cell_type": "markdown",
      "metadata": {
        "id": "view-in-github",
        "colab_type": "text"
      },
      "source": [
        "<a href=\"https://colab.research.google.com/github/Kaushal-Chapaneri/Satellite-image-processing/blob/master/T4_stat_analysis.ipynb\" target=\"_parent\"><img src=\"https://colab.research.google.com/assets/colab-badge.svg\" alt=\"Open In Colab\"/></a>"
      ]
    },
    {
      "cell_type": "markdown",
      "metadata": {
        "id": "08iZ6NHCM0FI",
        "colab_type": "text"
      },
      "source": [
        "# Welcome to Satellite  Image Processing using Python "
      ]
    },
    {
      "cell_type": "markdown",
      "metadata": {
        "id": "gooEUAamYps7",
        "colab_type": "text"
      },
      "source": [
        "## **Tutorial 4: Statistical Analysis of  Satellite Image using Python**"
      ]
    },
    {
      "cell_type": "markdown",
      "metadata": {
        "id": "o3ZswJbQNM9M",
        "colab_type": "text"
      },
      "source": [
        "In This tutorial You will get answer of how to calculate stastical parameters like mean, median, mode, standard deviation etc and how to save them in text file using Python. ."
      ]
    },
    {
      "cell_type": "code",
      "metadata": {
        "id": "jCD0x7UyuObq",
        "colab_type": "code",
        "colab": {}
      },
      "source": [
        "# importing necessary libraries\n",
        "\n",
        "from osgeo import gdal\n",
        "\n",
        "import numpy as np\n",
        "\n",
        "from google.colab import drive\n",
        "\n",
        "drive.mount('/content/gdrive')"
      ],
      "execution_count": 0,
      "outputs": []
    },
    {
      "cell_type": "code",
      "metadata": {
        "id": "hwSepPC1uUTx",
        "colab_type": "code",
        "colab": {}
      },
      "source": [
        "image_path = 'gdrive/My Drive/tutorial_docs/' \n",
        "\n",
        "raster = gdal.Open(image_path+'ALPSRP262080360.tif')\n",
        "\n",
        "bnd1 = raster.GetRasterBand(1)  \n",
        "\n",
        "im = bnd1.ReadAsArray() "
      ],
      "execution_count": 0,
      "outputs": []
    },
    {
      "cell_type": "code",
      "metadata": {
        "id": "4zeru-SxuZ47",
        "colab_type": "code",
        "colab": {}
      },
      "source": [
        "# opening new text file\n",
        "\n",
        "f = open(image_path + 'file.txt',\"a\")"
      ],
      "execution_count": 0,
      "outputs": []
    },
    {
      "cell_type": "code",
      "metadata": {
        "id": "IG-N5LBVv9Oc",
        "colab_type": "code",
        "colab": {}
      },
      "source": [
        "# calculating min, max, mean, median and standard deviation of an entire image\n",
        "\n",
        "im_min = np.min(im)\n",
        "\n",
        "im_max = np.max(im)\n",
        "\n",
        "im_mean = np.mean(im)\n",
        "\n",
        "im_median = np.median(im)\n",
        "\n",
        "im_std_dev = np.std(im)"
      ],
      "execution_count": 0,
      "outputs": []
    },
    {
      "cell_type": "code",
      "metadata": {
        "id": "XJPiGMJkw0yI",
        "colab_type": "code",
        "colab": {}
      },
      "source": [
        "# writing output of every parameter in text file, \n",
        "#here converting every value to string from float32 value because directly float value is not possible to write.\n",
        "\n",
        "f.write('Min: '+ str(im_min))\n",
        "\n",
        "f.write('\\n')\n",
        "\n",
        "f.write('Max: '+ str(im_max))\n",
        "\n",
        "f.write('\\n')\n",
        "\n",
        "f.write('Mean: '+ str(im_mean))\n",
        "\n",
        "f.write('\\n')\n",
        "\n",
        "f.write('Median: '+ str(im_median))\n",
        "\n",
        "f.write('\\n')\n",
        "\n",
        "f.write('Standard dev: '+ str(im_std_dev))\n",
        "\n",
        "f.write('\\n')\n",
        "\n",
        "f.close()"
      ],
      "execution_count": 0,
      "outputs": []
    },
    {
      "cell_type": "markdown",
      "metadata": {
        "id": "tkDUkAiQdCIm",
        "colab_type": "text"
      },
      "source": [
        "## Congratulations...! You've successfully completed this tutorial. "
      ]
    }
  ]
}