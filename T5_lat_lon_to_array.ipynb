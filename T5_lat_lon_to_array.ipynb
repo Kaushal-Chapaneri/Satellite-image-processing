{
  "nbformat": 4,
  "nbformat_minor": 0,
  "metadata": {
    "colab": {
      "name": "T5_lat_lon_to_array.ipynb",
      "version": "0.3.2",
      "provenance": [],
      "collapsed_sections": [],
      "include_colab_link": true
    },
    "kernelspec": {
      "name": "python3",
      "display_name": "Python 3"
    }
  },
  "cells": [
    {
      "cell_type": "markdown",
      "metadata": {
        "id": "view-in-github",
        "colab_type": "text"
      },
      "source": [
        "<a href=\"https://colab.research.google.com/github/Kaushal-Chapaneri/Satellite-image-processing/blob/master/T5_lat_lon_to_array.ipynb\" target=\"_parent\"><img src=\"https://colab.research.google.com/assets/colab-badge.svg\" alt=\"Open In Colab\"/></a>"
      ]
    },
    {
      "cell_type": "markdown",
      "metadata": {
        "id": "08iZ6NHCM0FI",
        "colab_type": "text"
      },
      "source": [
        "# Welcome to Satellite  Image Processing using Python "
      ]
    },
    {
      "cell_type": "markdown",
      "metadata": {
        "id": "gooEUAamYps7",
        "colab_type": "text"
      },
      "source": [
        "## **Tutorial 5: Saving Lat-Lon of pixels in Array format.**"
      ]
    },
    {
      "cell_type": "markdown",
      "metadata": {
        "id": "o3ZswJbQNM9M",
        "colab_type": "text"
      },
      "source": [
        "In This tutorial You will get answer of how to save Latitiude and Longitude of every pixel in array format using Python.  ."
      ]
    },
    {
      "cell_type": "code",
      "metadata": {
        "id": "SAhaM-_t1Tun",
        "colab_type": "code",
        "colab": {
          "base_uri": "https://localhost:8080/",
          "height": 34
        },
        "outputId": "1914281c-96e0-4538-d5fe-fa25f2acfbdf"
      },
      "source": [
        "# importing necessary libraries\n",
        "\n",
        "from osgeo import gdal,gdal_array\n",
        "\n",
        "import numpy as np\n",
        "\n",
        "import osr\n",
        "\n",
        "from google.colab import drive\n",
        "\n",
        "drive.mount('/content/gdrive')"
      ],
      "execution_count": 11,
      "outputs": [
        {
          "output_type": "stream",
          "text": [
            "Drive already mounted at /content/gdrive; to attempt to forcibly remount, call drive.mount(\"/content/gdrive\", force_remount=True).\n"
          ],
          "name": "stdout"
        }
      ]
    },
    {
      "cell_type": "code",
      "metadata": {
        "id": "Qo2-cql51lLr",
        "colab_type": "code",
        "colab": {}
      },
      "source": [
        "image_path = 'gdrive/My Drive/tutorial_docs/' \n",
        "\n",
        "raster = gdal.Open(image_path+'ALPSRS153913400.tif')\n",
        "\n",
        "bnd1 = raster.GetRasterBand(1)  \n",
        "\n",
        "im = bnd1.ReadAsArray() "
      ],
      "execution_count": 0,
      "outputs": []
    },
    {
      "cell_type": "code",
      "metadata": {
        "id": "0wXvWd2v1v0j",
        "colab_type": "code",
        "colab": {}
      },
      "source": [
        "wkt = raster.GetProjection()\n",
        "\n",
        "gt = raster.GetGeoTransform()"
      ],
      "execution_count": 0,
      "outputs": []
    },
    {
      "cell_type": "code",
      "metadata": {
        "id": "ZqSbg_hk2Iyk",
        "colab_type": "code",
        "colab": {}
      },
      "source": [
        "img = np.zeros((raster.RasterYSize, raster.RasterXSize, raster.RasterCount),\n",
        "                                   gdal_array.GDALTypeCodeToNumericTypeCode(raster.GetRasterBand(1).DataType))\n"
      ],
      "execution_count": 0,
      "outputs": []
    },
    {
      "cell_type": "code",
      "metadata": {
        "id": "vVbJlH9m2puk",
        "colab_type": "code",
        "colab": {}
      },
      "source": [
        "for b in range(img.shape[2]):\n",
        "  img[:, :, b] = raster.GetRasterBand(b + 1).ReadAsArray()\n",
        "                        \n",
        "                    \n",
        "pixel_pairs = []\n",
        "\n",
        "for i in range(raster.RasterXSize):\n",
        "  for j in range(raster.RasterYSize):\n",
        "    pixel_pairs.append((i, j))"
      ],
      "execution_count": 0,
      "outputs": []
    },
    {
      "cell_type": "code",
      "metadata": {
        "id": "V8tTJcfz244Q",
        "colab_type": "code",
        "colab": {}
      },
      "source": [
        "lon_arr = []\n",
        "\n",
        "def pixel_to_xy(pixel_pairs, gt=None, wkt=None, dd=False):\n",
        "    \n",
        "    pixel_pairs = map(list, pixel_pairs)\n",
        "    srs = osr.SpatialReference() # Create a spatial ref. for dataset\n",
        "\n",
        "    srs.ImportFromWkt(wkt)\n",
        "\n",
        "    # Will use decimal-degrees if so specified\n",
        "    if dd:\n",
        "        ct = osr.CoordinateTransformation(srs, srs.CloneGeogCS())\n",
        "\n",
        "    # Go through all the point pairs and translate them to pixel pairings\n",
        "    ll_pairs = []\n",
        "    \n",
        "    for point in pixel_pairs:\n",
        "        # Translate the pixel pairs into untranslated points\n",
        "        lon = point[1] * gt[1] + gt[0]\n",
        "        lat = point[0] * gt[5] + gt[3]\n",
        "        if dd:\n",
        "            (lon, lat, holder) = ct.TransformPoint(lon, lat) # Points to space\n",
        "\n",
        "        ll_pairs.append((lon, lat)) # Add the point to our return array\n",
        "\n",
        "    return ll_pairs   "
      ],
      "execution_count": 0,
      "outputs": []
    },
    {
      "cell_type": "code",
      "metadata": {
        "id": "cYQ19kaa3FJC",
        "colab_type": "code",
        "colab": {}
      },
      "source": [
        "lon_lat=pixel_to_xy(pixel_pairs,gt,wkt,True)\n",
        "lon_lat = np.asarray(lon_lat)\n",
        "lon_seperate = lon_lat[:,0]\n",
        "lat_seperate = lon_lat[:,1]\n",
        "\n",
        "arr_lon = np.copy(im)\n",
        "arr_lat = np.copy(im)\n",
        "\n",
        "for i in range (raster.RasterYSize):\n",
        "  for j in range(raster.RasterXSize):\n",
        "        arr_lon[i][j] = lon_seperate[j]\n",
        "        arr_lat[i][j] = lat_seperate[j]\n",
        "        \n",
        "        \n",
        "# here the variables arr_lon and arr_lat is array of longitude and latitude respectively.        \n"
      ],
      "execution_count": 0,
      "outputs": []
    },
    {
      "cell_type": "markdown",
      "metadata": {
        "id": "tkDUkAiQdCIm",
        "colab_type": "text"
      },
      "source": [
        "## Congratulations...! You've successfully completed this tutorial. "
      ]
    }
  ]
}