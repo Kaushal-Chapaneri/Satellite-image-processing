{
  "nbformat": 4,
  "nbformat_minor": 0,
  "metadata": {
    "colab": {
      "name": "T2_sigma-nought_conversion.ipynb",
      "version": "0.3.2",
      "provenance": [],
      "collapsed_sections": [],
      "include_colab_link": true
    },
    "kernelspec": {
      "name": "python3",
      "display_name": "Python 3"
    }
  },
  "cells": [
    {
      "cell_type": "markdown",
      "metadata": {
        "id": "view-in-github",
        "colab_type": "text"
      },
      "source": [
        "<a href=\"https://colab.research.google.com/github/Kaushal-Chapaneri/Satellite-image-processing/blob/master/T2_sigma_nought_conversion.ipynb\" target=\"_parent\"><img src=\"https://colab.research.google.com/assets/colab-badge.svg\" alt=\"Open In Colab\"/></a>"
      ]
    },
    {
      "cell_type": "markdown",
      "metadata": {
        "id": "08iZ6NHCM0FI",
        "colab_type": "text"
      },
      "source": [
        "# Welcome to Satellite  Image Processing using Python "
      ]
    },
    {
      "cell_type": "markdown",
      "metadata": {
        "id": "gooEUAamYps7",
        "colab_type": "text"
      },
      "source": [
        "## Tutorial 2:  Converting Intensity value of pixel to Backscatter (sigma-nought) value."
      ]
    },
    {
      "cell_type": "markdown",
      "metadata": {
        "id": "o3ZswJbQNM9M",
        "colab_type": "text"
      },
      "source": [
        "In This tutorial You will get answer of how to convert intensity value of each pixel to backscatter value using Python.  \n",
        "\n",
        "The mathematical expression for the same is: \n",
        "\n",
        "**σ^0 (dB)=10*log_10⁡(DN)^2+CF**\n",
        "\n",
        "where DN is pixel value, Digital Number\n",
        "\n",
        "CF is Calibration factor, which varies sensor to sensor. For example for ALOS PALSAR c-band it is -83 ."
      ]
    },
    {
      "cell_type": "code",
      "metadata": {
        "id": "MdzIDKwhrUIc",
        "colab_type": "code",
        "colab": {}
      },
      "source": [
        "# importing necessary libraries\n",
        "\n",
        "from osgeo import gdal\n",
        "\n",
        "import numpy as np\n",
        "\n",
        "from PIL import  Image\n",
        "\n",
        "from google.colab import drive\n",
        "\n",
        "drive.mount('/content/gdrive')"
      ],
      "execution_count": 0,
      "outputs": []
    },
    {
      "cell_type": "code",
      "metadata": {
        "id": "9pUdD6HPrvmy",
        "colab_type": "code",
        "colab": {}
      },
      "source": [
        "image_path = 'gdrive/My Drive/tutorial_docs/' \n",
        "\n",
        "raster = gdal.Open(image_path+'ALPSRP262080360.tif')\n",
        "\n",
        "bnd1 = raster.GetRasterBand(1)  \n",
        "\n",
        "im = bnd1.ReadAsArray() "
      ],
      "execution_count": 0,
      "outputs": []
    },
    {
      "cell_type": "code",
      "metadata": {
        "id": "-dTcifn0r7nB",
        "colab_type": "code",
        "colab": {}
      },
      "source": [
        "x_res = raster.RasterXSize\n",
        "    \n",
        "y_res = raster.RasterYSize"
      ],
      "execution_count": 0,
      "outputs": []
    },
    {
      "cell_type": "code",
      "metadata": {
        "id": "ljtJNaI6sA3W",
        "colab_type": "code",
        "colab": {}
      },
      "source": [
        "sigma = np.copy(im)\n",
        "    \n",
        "for i in range (y_res):\n",
        "        \n",
        "    for j in range (x_res):\n",
        "        \n",
        "        sigma[i][j] = 20 * np.log10(im[i][j]) - 83 #  here 83 is calibration factor for ALOS PALSAR, change it for other sensor. "
      ],
      "execution_count": 0,
      "outputs": []
    },
    {
      "cell_type": "code",
      "metadata": {
        "id": "5fSxavCksGdp",
        "colab_type": "code",
        "colab": {}
      },
      "source": [
        "# now we will save the output array to as .tiff file using PIL library\n",
        "\n",
        "t1 = Image.fromarray(sigma)\n",
        "\n",
        "t1.save(image_path + 'sigma_nought_output.tiff')"
      ],
      "execution_count": 0,
      "outputs": []
    },
    {
      "cell_type": "markdown",
      "metadata": {
        "id": "tkDUkAiQdCIm",
        "colab_type": "text"
      },
      "source": [
        "## Congratulations...! You've successfully completed this tutorial. "
      ]
    }
  ]
}