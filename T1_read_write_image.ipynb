{
  "nbformat": 4,
  "nbformat_minor": 0,
  "metadata": {
    "colab": {
      "name": "T1_read_write_image.ipynb",
      "version": "0.3.2",
      "provenance": [],
      "collapsed_sections": [],
      "include_colab_link": true
    },
    "kernelspec": {
      "name": "python3",
      "display_name": "Python 3"
    }
  },
  "cells": [
    {
      "cell_type": "markdown",
      "metadata": {
        "id": "view-in-github",
        "colab_type": "text"
      },
      "source": [
        "<a href=\"https://colab.research.google.com/github/Kaushal-Chapaneri/Satellite-image-processing/blob/master/T1_read_write_image_2.ipynb\" target=\"_parent\"><img src=\"https://colab.research.google.com/assets/colab-badge.svg\" alt=\"Open In Colab\"/></a>"
      ]
    },
    {
      "cell_type": "markdown",
      "metadata": {
        "id": "08iZ6NHCM0FI",
        "colab_type": "text"
      },
      "source": [
        "# Welcome to Satellite  Image Processing using Python "
      ]
    },
    {
      "cell_type": "markdown",
      "metadata": {
        "id": "gooEUAamYps7",
        "colab_type": "text"
      },
      "source": [
        "## **Tutorial 1: Reading and Writing Satellite Image**"
      ]
    },
    {
      "cell_type": "markdown",
      "metadata": {
        "id": "o3ZswJbQNM9M",
        "colab_type": "text"
      },
      "source": [
        "In This tutorial You will get answer of how to read and write satellite images using Python. There are multiple libraries available to read images so we are first starting with library called **[GDAL](https://pypi.org/project/GDAL/)**. Here we are taking example of  [SAR](https://en.wikipedia.org/wiki/Synthetic-aperture_radar) image of .tiff format for reading and writing. "
      ]
    },
    {
      "cell_type": "code",
      "metadata": {
        "id": "D5_N-XVsNtg_",
        "colab_type": "code",
        "colab": {}
      },
      "source": [
        "from osgeo import gdal  # importing gdal library"
      ],
      "execution_count": 0,
      "outputs": []
    },
    {
      "cell_type": "code",
      "metadata": {
        "id": "_IoTGVguN8IP",
        "colab_type": "code",
        "colab": {}
      },
      "source": [
        "# this is optional because my data is in google drive\n",
        "\n",
        "from google.colab import drive\n",
        "drive.mount('/content/gdrive')"
      ],
      "execution_count": 0,
      "outputs": []
    },
    {
      "cell_type": "code",
      "metadata": {
        "id": "LPUM_F6lRXOi",
        "colab_type": "code",
        "colab": {}
      },
      "source": [
        "# here give path of folder of image \n",
        "\n",
        "image_path = 'gdrive/My Drive/tutorial_docs/' "
      ],
      "execution_count": 0,
      "outputs": []
    },
    {
      "cell_type": "code",
      "metadata": {
        "id": "JkKJoBXvQPg-",
        "colab_type": "code",
        "colab": {}
      },
      "source": [
        "raster = gdal.Open(image_path+'ALPSRP262080360.tif')"
      ],
      "execution_count": 0,
      "outputs": []
    },
    {
      "cell_type": "code",
      "metadata": {
        "id": "q0QKS8CrSVk-",
        "colab_type": "code",
        "colab": {}
      },
      "source": [
        "# if you have image with multiple bands, then write the band number in argument of GetRasterBand.\n",
        "\n",
        "bnd1 = raster.GetRasterBand(1)  "
      ],
      "execution_count": 0,
      "outputs": []
    },
    {
      "cell_type": "code",
      "metadata": {
        "id": "myyKNu-sSh5Y",
        "colab_type": "code",
        "colab": {}
      },
      "source": [
        "# here we are getting our image in form of array. From here onward we will use this array for further process.\n",
        "\n",
        "im = bnd1.ReadAsArray()  "
      ],
      "execution_count": 0,
      "outputs": []
    },
    {
      "cell_type": "code",
      "metadata": {
        "id": "BeobOZA8Mwj0",
        "colab_type": "code",
        "colab": {}
      },
      "source": [
        "print(im)"
      ],
      "execution_count": 0,
      "outputs": []
    },
    {
      "cell_type": "markdown",
      "metadata": {
        "id": "7I2itpHBXjeS",
        "colab_type": "text"
      },
      "source": [
        "Now lets see the second method to read same image using library called [tifffile](https://pypi.org/project/tifffile/)"
      ]
    },
    {
      "cell_type": "code",
      "metadata": {
        "id": "Z0VG6BcsSzTs",
        "colab_type": "code",
        "colab": {}
      },
      "source": [
        "import tifffile as tf"
      ],
      "execution_count": 0,
      "outputs": []
    },
    {
      "cell_type": "code",
      "metadata": {
        "id": "Ph04aqL4YCID",
        "colab_type": "code",
        "colab": {}
      },
      "source": [
        "im2 = tf.imread(image_path)"
      ],
      "execution_count": 0,
      "outputs": []
    },
    {
      "cell_type": "code",
      "metadata": {
        "id": "HvDv-pZYYJGp",
        "colab_type": "code",
        "colab": {}
      },
      "source": [
        "print(im2)"
      ],
      "execution_count": 0,
      "outputs": []
    },
    {
      "cell_type": "markdown",
      "metadata": {
        "id": "EKi3s856YOOF",
        "colab_type": "text"
      },
      "source": [
        "Limitation of using this library is that you can not specify band number in case you have multiple bands in image. Otherwise it is very simple and easy to use."
      ]
    },
    {
      "cell_type": "markdown",
      "metadata": {
        "id": "x45CcLPVZfnT",
        "colab_type": "text"
      },
      "source": [
        "We can save this array in form of an image with different formats like .tiff , .jpeg , .bmp or .png etc."
      ]
    },
    {
      "cell_type": "code",
      "metadata": {
        "id": "sYdTOp97aEvS",
        "colab_type": "code",
        "colab": {}
      },
      "source": [
        "# writing an array in .tiff format\n",
        "\n",
        "from PIL import Image"
      ],
      "execution_count": 0,
      "outputs": []
    },
    {
      "cell_type": "code",
      "metadata": {
        "id": "WTdbEq_9YgRg",
        "colab_type": "code",
        "colab": {}
      },
      "source": [
        "t1 = Image.fromarray(im)"
      ],
      "execution_count": 0,
      "outputs": []
    },
    {
      "cell_type": "code",
      "metadata": {
        "id": "n8VKtgVya1Mo",
        "colab_type": "code",
        "colab": {}
      },
      "source": [
        "# here you have to write the path, where you want to save your output and you can give name of output file of your choice.\n",
        "\n",
        "t1.save(image_path + 'save_file.tiff')"
      ],
      "execution_count": 0,
      "outputs": []
    },
    {
      "cell_type": "code",
      "metadata": {
        "id": "pGXX_Mg4cJSt",
        "colab_type": "code",
        "colab": {}
      },
      "source": [
        "# writing an array in .png or .jpg format\n",
        "\n",
        "import matplotlib.pyplot as plt"
      ],
      "execution_count": 0,
      "outputs": []
    },
    {
      "cell_type": "code",
      "metadata": {
        "id": "WMACKFkecbHG",
        "colab_type": "code",
        "colab": {}
      },
      "source": [
        "plt.imsave(image_path + 'out_file.png',im)"
      ],
      "execution_count": 0,
      "outputs": []
    },
    {
      "cell_type": "code",
      "metadata": {
        "id": "iXtkSTCpcoBK",
        "colab_type": "code",
        "colab": {}
      },
      "source": [
        "plt.imsave(image_path + 'out_file_2.jpg',im)"
      ],
      "execution_count": 0,
      "outputs": []
    },
    {
      "cell_type": "markdown",
      "metadata": {
        "id": "tkDUkAiQdCIm",
        "colab_type": "text"
      },
      "source": [
        "## Congratulations...! You've successfully completed your first tutorial. "
      ]
    },
    {
      "cell_type": "markdown",
      "metadata": {
        "id": "7A5qget0dTvV",
        "colab_type": "text"
      },
      "source": [
        ""
      ]
    }
  ]
}
